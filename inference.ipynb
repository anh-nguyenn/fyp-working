{
 "cells": [
  {
   "cell_type": "code",
   "execution_count": 43,
   "metadata": {},
   "outputs": [],
   "source": [
    "import os\n",
    "import json\n",
    "import rdflib\n",
    "import random\n",
    "from typing import List\n",
    "from openai import OpenAI\n",
    "from dotenv import load_dotenv\n",
    "from langchain_community.graphs import OntotextGraphDBGraph\n",
    "from constants import (\n",
    "    TRAINED_MODEL_ID_PATH,\n",
    "    TEST_DATA_PATH,\n",
    "    SPARQL_FIX_PROMPT,\n",
    "    QA_PROMPT,\n",
    "    SPARQL_GENERATION_PROMPT,\n",
    ")"
   ]
  },
  {
   "cell_type": "code",
   "execution_count": 3,
   "metadata": {},
   "outputs": [],
   "source": [
    "class CustomOntotextGraphDBGraph(OntotextGraphDBGraph):\n",
    "    def query(\n",
    "        self,\n",
    "        query: str,\n",
    "    ) -> List[rdflib.query.ResultRow]:\n",
    "        \"\"\"\n",
    "        Query the graph.\n",
    "        \"\"\"\n",
    "        from rdflib.query import ResultRow\n",
    "\n",
    "        res = self.graph.query(query)\n",
    "        if res.type == \"ASK\":\n",
    "            return [r for r in res if isinstance(r, bool)]\n",
    "        return [r for r in res if isinstance(r, ResultRow)]"
   ]
  },
  {
   "cell_type": "markdown",
   "metadata": {},
   "source": [
    "## Create Graph OBJ\n"
   ]
  },
  {
   "cell_type": "code",
   "execution_count": 6,
   "metadata": {},
   "outputs": [
    {
     "name": "stdout",
     "output_type": "stream",
     "text": [
      "Graph object created successfully.\n"
     ]
    }
   ],
   "source": [
    "config = {\n",
    "    \"query_endpoint\": \"http://localhost:7200/repositories/imkg\",\n",
    "    \"local_file\": \"/Users/jerry/Desktop/FYP-working/fine-tune-openai-KGQA/KG/iMKG.ttl\",\n",
    "    \"local_file_format\": \"turtle\",\n",
    "}\n",
    "try:\n",
    "    graph = CustomOntotextGraphDBGraph(**config)\n",
    "    print(\"Graph object created successfully.\")\n",
    "except Exception as e:\n",
    "    print(\"Failed to create graph object:\", e)"
   ]
  },
  {
   "cell_type": "code",
   "execution_count": 10,
   "metadata": {},
   "outputs": [
    {
     "data": {
      "text/plain": [
       "True"
      ]
     },
     "execution_count": 10,
     "metadata": {},
     "output_type": "execute_result"
    }
   ],
   "source": [
    "load_dotenv()"
   ]
  },
  {
   "cell_type": "code",
   "execution_count": 36,
   "metadata": {},
   "outputs": [
    {
     "name": "stdout",
     "output_type": "stream",
     "text": [
      "Model name: ft:gpt-4o-2024-08-06:personal::AKlfhHvk\n"
     ]
    }
   ],
   "source": [
    "client = OpenAI()\n",
    "with open(TRAINED_MODEL_ID_PATH, \"r\", encoding=\"utf-8\") as f:\n",
    "    model_name = f.read()\n",
    "f.close()\n",
    "print(f\"Model name: {model_name}\")"
   ]
  },
  {
   "cell_type": "code",
   "execution_count": 28,
   "metadata": {},
   "outputs": [
    {
     "name": "stdout",
     "output_type": "stream",
     "text": [
      "Test data point:\n",
      "{\n",
      "    \"qid\": \"mcqa-9276cd07-e67e-11ee-8734-58961d663d9c\",\n",
      "    \"question\": \"which films have the same director as [Leningrad Cowboys Go America] and featured [Blondin Miguel]?\",\n",
      "    \"question_type\": \"movie_to_director_to_movie_constraint_actor\",\n",
      "    \"topic_entity\": [\n",
      "        \"Leningrad Cowboys Go America\",\n",
      "        \"Blondin Miguel\"\n",
      "    ],\n",
      "    \"topic_entity_id\": [\n",
      "        \"https://www.wikidata.org/entity/Q1817757\",\n",
      "        \"https://www.wikidata.org/entity/Q95796320\"\n",
      "    ],\n",
      "    \"answer\": [\n",
      "        \"Le Havre\"\n",
      "    ],\n",
      "    \"answer_id\": [\n",
      "        \"https://www.wikidata.org/entity/Q736498\"\n",
      "    ],\n",
      "    \"sparql\": \"PREFIX rdfs: <http://www.w3.org/2000/01/rdf-schema#> SELECT DISTINCT ?label ?uri WHERE { ?rel1 rdfs:label \\\"directed_by\\\" . ?e1 ?rel1 ?e2 ; rdfs:label \\\"Leningrad Cowboys Go America\\\" . ?uri ?rel1 ?e2 ; ?rel4 ?e4 ; rdfs:label ?label . FILTER (?label != \\\"Leningrad Cowboys Go America\\\") ?rel4 rdfs:label \\\"starred_actors\\\" . ?e4 rdfs:label \\\"Blondin Miguel\\\" . }\"\n",
      "}\n"
     ]
    }
   ],
   "source": [
    "TEST_DATA_PATH = os.path.join(os.getcwd(), \"data\", \"qa_test.json\")\n",
    "with open(TEST_DATA_PATH, \"r\", encoding=\"utf-8\") as f:\n",
    "    test_dataset = json.load(f)\n",
    "\n",
    "test_data_point = random.sample(test_dataset, 1)[0]\n",
    "print(f\"Test data point:\\n{json.dumps(test_data_point, indent=4)}\")"
   ]
  },
  {
   "cell_type": "markdown",
   "metadata": {},
   "source": [
    "## Call OPENAI FINETUNE MODEL\n"
   ]
  },
  {
   "cell_type": "code",
   "execution_count": 29,
   "metadata": {},
   "outputs": [],
   "source": [
    "def call_openai(messages: list, model_name, **kwargs) -> str:\n",
    "    print(f\"Messages: {messages}\")\n",
    "    print(f\"Model: {model_name}\")\n",
    "    response = client.chat.completions.create(\n",
    "        messages=messages, model=model_name, **kwargs\n",
    "    )\n",
    "\n",
    "    return response.choices[0].message.content"
   ]
  },
  {
   "cell_type": "code",
   "execution_count": 39,
   "metadata": {},
   "outputs": [
    {
     "name": "stdout",
     "output_type": "stream",
     "text": [
      "Messages: [{'role': 'system', 'content': '\\nYou are a useful SparQL assistant. You are tasked to review a question and generate a SparQL to answer the question.\\nSparQL Database used is WikiData. [<text>] is topic entity in the question.\\nOnly use these two prefixes PREFIX wd: <https://www.wikidata.org/entity/> and PREFIX rdfs: <http://www.w3.org/2000/01/rdf-schema#> if needed.\\nDo not use wdt syntax to query WikiData\\n'}, {'role': 'user', 'content': 'which films have the same director as [Leningrad Cowboys Go America] and featured [Blondin Miguel]?'}]\n",
      "Model: ft:gpt-4o-2024-08-06:personal::AKlfhHvk\n",
      "Generated SparQL:\n",
      "PREFIX rdfs: <http://www.w3.org/2000/01/rdf-schema#> SELECT DISTINCT ?label ?uri WHERE { ?rel1 rdfs:label \"directed_by\" . ?e1 ?rel1 ?e2 ; rdfs:label \"Leningrad Cowboys Go America\" . ?uri ?rel1 ?e2 ; ?rel4 ?e4 ; rdfs:label ?label . FILTER (?label != \"Leningrad Cowboys Go America\") ?rel4 rdfs:label \"starred_actors\" . ?e4 rdfs:label \"Blondin Miguel\" . }\n"
     ]
    }
   ],
   "source": [
    "query_generation_messages = [\n",
    "    {\"role\": \"system\", \"content\": SPARQL_GENERATION_PROMPT},\n",
    "    {\"role\": \"user\", \"content\": f\"{test_data_point['question']}\"},\n",
    "]\n",
    "query = call_openai(\n",
    "    messages=query_generation_messages, model_name=model_name, temperature=0, top_p=0\n",
    ")\n",
    "print(f\"Generated SparQL:\\n{query}\")"
   ]
  },
  {
   "cell_type": "markdown",
   "metadata": {},
   "source": [
    "## HANDLE ERROR (IF THERE IS)\n"
   ]
  },
  {
   "cell_type": "code",
   "execution_count": 44,
   "metadata": {},
   "outputs": [
    {
     "name": "stdout",
     "output_type": "stream",
     "text": [
      "Query results: [(rdflib.term.Literal('Le Havre'), rdflib.term.URIRef('https://www.wikidata.org/entity/Q736498'))]\n"
     ]
    }
   ],
   "source": [
    "NO_RETRRY = 3\n",
    "query_results = None\n",
    "try:\n",
    "    query_results = graph.query(query)\n",
    "    print(f\"Query results: {query_results}\")\n",
    "except Exception as e:\n",
    "    retries = 0\n",
    "    error_message = str(e)\n",
    "    while retries < NO_RETRRY:\n",
    "        try:\n",
    "            print(f\"Invalid query. Retry count: {retries+1}\")\n",
    "            fix_sparql_query_messages = [\n",
    "                {\"role\": \"system\", \"content\": SPARQL_FIX_PROMPT},\n",
    "                {\n",
    "                    \"role\": \"user\",\n",
    "                    \"content\": f\"\"\"Question: {test_data_point['question']}\n",
    "Previous SparQL query: {query}\n",
    "Error message: {error_message}\n",
    "\"\"\",\n",
    "                },\n",
    "            ]\n",
    "            query = call_openai(\n",
    "                messages=fix_sparql_query_messages,\n",
    "                model_name=model_name,\n",
    "                temperature=0,\n",
    "                top_p=0,\n",
    "            )\n",
    "            print(f\"New query: {query}\")\n",
    "            query_results = graph.query(query)\n",
    "            print(f\"Query results: {query_results}\")\n",
    "            break\n",
    "        except Exception as e:\n",
    "            retries += 1\n",
    "            error_message = str(e)\n",
    "if query_results == None:\n",
    "    raise Exception(\"Invalid SparQL query. Stop answering\")"
   ]
  },
  {
   "cell_type": "code",
   "execution_count": 46,
   "metadata": {},
   "outputs": [
    {
     "name": "stdout",
     "output_type": "stream",
     "text": [
      "Messages: [{'role': 'system', 'content': 'Generate a natural language response from the results of a SPARQL query.\\nDon\\'t use any internal knowledge to answer the question,\\nJust say you don\\'t know if no information is available from The results of a SPARQL query.\\nIf the question is Yes/No question and there is no information available, answer No.\\nSparQL query: PREFIX rdfs: <http://www.w3.org/2000/01/rdf-schema#> SELECT DISTINCT ?label ?uri WHERE { ?rel1 rdfs:label \"directed_by\" . ?e1 ?rel1 ?e2 ; rdfs:label \"Leningrad Cowboys Go America\" . ?uri ?rel1 ?e2 ; ?rel4 ?e4 ; rdfs:label ?label . FILTER (?label != \"Leningrad Cowboys Go America\") ?rel4 rdfs:label \"starred_actors\" . ?e4 rdfs:label \"Blondin Miguel\" . }\\nThe results of a SparQL query: [(rdflib.term.Literal(\\'Le Havre\\'), rdflib.term.URIRef(\\'https://www.wikidata.org/entity/Q736498\\'))]'}, {'role': 'user', 'content': 'Question: which films have the same director as [Leningrad Cowboys Go America] and featured [Blondin Miguel]?'}]\n",
      "Model: gpt-4o\n",
      "Final Response:\n",
      "The film \"Le Havre\" has the same director as \"Leningrad Cowboys Go America\" and featured Blondin Miguel.\n"
     ]
    }
   ],
   "source": [
    "qa_answering_prompt = QA_PROMPT.replace(\"{{context}}\", str(query_results))\n",
    "qa_answering_prompt = qa_answering_prompt.replace(\"{{query}}\", str(query))\n",
    "qa_answering_messages = [\n",
    "    {\"role\": \"system\", \"content\": qa_answering_prompt},\n",
    "    {\"role\": \"user\", \"content\": f\"Question: {test_data_point['question']}\"},\n",
    "]\n",
    "final_response = call_openai(\n",
    "    messages=qa_answering_messages, model_name=\"gpt-4o\", temperature=0.5\n",
    ")\n",
    "print(f\"Final Response:\\n{final_response}\")"
   ]
  },
  {
   "cell_type": "code",
   "execution_count": 48,
   "metadata": {},
   "outputs": [
    {
     "name": "stdout",
     "output_type": "stream",
     "text": [
      "The queries produce identical results.\n"
     ]
    }
   ],
   "source": [
    "# our query\n",
    "generated_results = set(graph.query(query))\n",
    "\n",
    "# sample query\n",
    "sample_results = set(graph.query(test_data_point[\"sparql\"]))\n",
    "\n",
    "# Compare the results\n",
    "if generated_results == sample_results:\n",
    "    print(\"The queries produce identical results.\")\n",
    "else:\n",
    "    print(\"The queries produce different results.\")"
   ]
  }
 ],
 "metadata": {
  "kernelspec": {
   "display_name": ".venv",
   "language": "python",
   "name": "python3"
  },
  "language_info": {
   "codemirror_mode": {
    "name": "ipython",
    "version": 3
   },
   "file_extension": ".py",
   "mimetype": "text/x-python",
   "name": "python",
   "nbconvert_exporter": "python",
   "pygments_lexer": "ipython3",
   "version": "3.10.4"
  }
 },
 "nbformat": 4,
 "nbformat_minor": 2
}
