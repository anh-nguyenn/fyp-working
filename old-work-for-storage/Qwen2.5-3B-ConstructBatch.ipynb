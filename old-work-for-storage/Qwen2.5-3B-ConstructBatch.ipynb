{
 "cells": [
  {
   "cell_type": "code",
   "execution_count": 1,
   "metadata": {},
   "outputs": [
    {
     "name": "stdout",
     "output_type": "stream",
     "text": [
      "Requirement already satisfied: langchain-community in ./myenv/lib/python3.9/site-packages (0.3.15)\n",
      "Requirement already satisfied: langchain-core in ./myenv/lib/python3.9/site-packages (0.3.31)\n",
      "Requirement already satisfied: langchain<0.4.0,>=0.3.15 in ./myenv/lib/python3.9/site-packages (from langchain-community) (0.3.15)\n",
      "Requirement already satisfied: SQLAlchemy<3,>=1.4 in ./myenv/lib/python3.9/site-packages (from langchain-community) (2.0.37)\n",
      "Requirement already satisfied: numpy<2,>=1.22.4 in ./myenv/lib/python3.9/site-packages (from langchain-community) (1.26.4)\n",
      "Requirement already satisfied: pydantic-settings<3.0.0,>=2.4.0 in ./myenv/lib/python3.9/site-packages (from langchain-community) (2.7.1)\n",
      "Requirement already satisfied: aiohttp<4.0.0,>=3.8.3 in ./myenv/lib/python3.9/site-packages (from langchain-community) (3.11.11)\n",
      "Requirement already satisfied: langsmith<0.4,>=0.1.125 in ./myenv/lib/python3.9/site-packages (from langchain-community) (0.3.1)\n",
      "Requirement already satisfied: httpx-sse<0.5.0,>=0.4.0 in ./myenv/lib/python3.9/site-packages (from langchain-community) (0.4.0)\n",
      "Requirement already satisfied: tenacity!=8.4.0,<10,>=8.1.0 in ./myenv/lib/python3.9/site-packages (from langchain-community) (9.0.0)\n",
      "Requirement already satisfied: PyYAML>=5.3 in ./myenv/lib/python3.9/site-packages (from langchain-community) (6.0.2)\n",
      "Requirement already satisfied: requests<3,>=2 in ./myenv/lib/python3.9/site-packages (from langchain-community) (2.32.3)\n",
      "Requirement already satisfied: dataclasses-json<0.7,>=0.5.7 in ./myenv/lib/python3.9/site-packages (from langchain-community) (0.6.7)\n",
      "Requirement already satisfied: pydantic<3.0.0,>=2.5.2 in ./myenv/lib/python3.9/site-packages (from langchain-core) (2.10.6)\n",
      "Requirement already satisfied: typing-extensions>=4.7 in ./myenv/lib/python3.9/site-packages (from langchain-core) (4.12.2)\n",
      "Requirement already satisfied: packaging<25,>=23.2 in ./myenv/lib/python3.9/site-packages (from langchain-core) (24.2)\n",
      "Requirement already satisfied: jsonpatch<2.0,>=1.33 in ./myenv/lib/python3.9/site-packages (from langchain-core) (1.33)\n",
      "Requirement already satisfied: attrs>=17.3.0 in ./myenv/lib/python3.9/site-packages (from aiohttp<4.0.0,>=3.8.3->langchain-community) (25.1.0)\n",
      "Requirement already satisfied: yarl<2.0,>=1.17.0 in ./myenv/lib/python3.9/site-packages (from aiohttp<4.0.0,>=3.8.3->langchain-community) (1.18.3)\n",
      "Requirement already satisfied: aiosignal>=1.1.2 in ./myenv/lib/python3.9/site-packages (from aiohttp<4.0.0,>=3.8.3->langchain-community) (1.3.2)\n",
      "Requirement already satisfied: async-timeout<6.0,>=4.0 in ./myenv/lib/python3.9/site-packages (from aiohttp<4.0.0,>=3.8.3->langchain-community) (4.0.3)\n",
      "Requirement already satisfied: frozenlist>=1.1.1 in ./myenv/lib/python3.9/site-packages (from aiohttp<4.0.0,>=3.8.3->langchain-community) (1.5.0)\n",
      "Requirement already satisfied: propcache>=0.2.0 in ./myenv/lib/python3.9/site-packages (from aiohttp<4.0.0,>=3.8.3->langchain-community) (0.2.1)\n",
      "Requirement already satisfied: multidict<7.0,>=4.5 in ./myenv/lib/python3.9/site-packages (from aiohttp<4.0.0,>=3.8.3->langchain-community) (6.1.0)\n",
      "Requirement already satisfied: aiohappyeyeballs>=2.3.0 in ./myenv/lib/python3.9/site-packages (from aiohttp<4.0.0,>=3.8.3->langchain-community) (2.4.4)\n",
      "Requirement already satisfied: typing-inspect<1,>=0.4.0 in ./myenv/lib/python3.9/site-packages (from dataclasses-json<0.7,>=0.5.7->langchain-community) (0.9.0)\n",
      "Requirement already satisfied: marshmallow<4.0.0,>=3.18.0 in ./myenv/lib/python3.9/site-packages (from dataclasses-json<0.7,>=0.5.7->langchain-community) (3.26.0)\n",
      "Requirement already satisfied: jsonpointer>=1.9 in ./myenv/lib/python3.9/site-packages (from jsonpatch<2.0,>=1.33->langchain-core) (3.0.0)\n",
      "Requirement already satisfied: langchain-text-splitters<0.4.0,>=0.3.3 in ./myenv/lib/python3.9/site-packages (from langchain<0.4.0,>=0.3.15->langchain-community) (0.3.5)\n",
      "Requirement already satisfied: requests-toolbelt<2.0.0,>=1.0.0 in ./myenv/lib/python3.9/site-packages (from langsmith<0.4,>=0.1.125->langchain-community) (1.0.0)\n",
      "Requirement already satisfied: zstandard<0.24.0,>=0.23.0 in ./myenv/lib/python3.9/site-packages (from langsmith<0.4,>=0.1.125->langchain-community) (0.23.0)\n",
      "Requirement already satisfied: orjson<4.0.0,>=3.9.14 in ./myenv/lib/python3.9/site-packages (from langsmith<0.4,>=0.1.125->langchain-community) (3.10.15)\n",
      "Requirement already satisfied: httpx<1,>=0.23.0 in ./myenv/lib/python3.9/site-packages (from langsmith<0.4,>=0.1.125->langchain-community) (0.28.1)\n",
      "Requirement already satisfied: idna in ./myenv/lib/python3.9/site-packages (from httpx<1,>=0.23.0->langsmith<0.4,>=0.1.125->langchain-community) (3.10)\n",
      "Requirement already satisfied: certifi in ./myenv/lib/python3.9/site-packages (from httpx<1,>=0.23.0->langsmith<0.4,>=0.1.125->langchain-community) (2024.12.14)\n",
      "Requirement already satisfied: anyio in ./myenv/lib/python3.9/site-packages (from httpx<1,>=0.23.0->langsmith<0.4,>=0.1.125->langchain-community) (4.8.0)\n",
      "Requirement already satisfied: httpcore==1.* in ./myenv/lib/python3.9/site-packages (from httpx<1,>=0.23.0->langsmith<0.4,>=0.1.125->langchain-community) (1.0.7)\n",
      "Requirement already satisfied: h11<0.15,>=0.13 in ./myenv/lib/python3.9/site-packages (from httpcore==1.*->httpx<1,>=0.23.0->langsmith<0.4,>=0.1.125->langchain-community) (0.14.0)\n",
      "Requirement already satisfied: annotated-types>=0.6.0 in ./myenv/lib/python3.9/site-packages (from pydantic<3.0.0,>=2.5.2->langchain-core) (0.7.0)\n",
      "Requirement already satisfied: pydantic-core==2.27.2 in ./myenv/lib/python3.9/site-packages (from pydantic<3.0.0,>=2.5.2->langchain-core) (2.27.2)\n",
      "Requirement already satisfied: python-dotenv>=0.21.0 in ./myenv/lib/python3.9/site-packages (from pydantic-settings<3.0.0,>=2.4.0->langchain-community) (1.0.1)\n",
      "Requirement already satisfied: charset-normalizer<4,>=2 in ./myenv/lib/python3.9/site-packages (from requests<3,>=2->langchain-community) (3.4.1)\n",
      "Requirement already satisfied: urllib3<3,>=1.21.1 in ./myenv/lib/python3.9/site-packages (from requests<3,>=2->langchain-community) (2.3.0)\n",
      "Requirement already satisfied: mypy-extensions>=0.3.0 in ./myenv/lib/python3.9/site-packages (from typing-inspect<1,>=0.4.0->dataclasses-json<0.7,>=0.5.7->langchain-community) (1.0.0)\n",
      "Requirement already satisfied: sniffio>=1.1 in ./myenv/lib/python3.9/site-packages (from anyio->httpx<1,>=0.23.0->langsmith<0.4,>=0.1.125->langchain-community) (1.3.1)\n",
      "Requirement already satisfied: exceptiongroup>=1.0.2 in ./myenv/lib/python3.9/site-packages (from anyio->httpx<1,>=0.23.0->langsmith<0.4,>=0.1.125->langchain-community) (1.2.2)\n",
      "\u001b[33mWARNING: You are using pip version 21.2.4; however, version 25.0 is available.\n",
      "You should consider upgrading via the '/Users/jerry/Desktop/FYP-working/fine-tune-openai-KGQA/myenv/bin/python -m pip install --upgrade pip' command.\u001b[0m\n",
      "Note: you may need to restart the kernel to use updated packages.\n",
      "Requirement already satisfied: sklearn in ./myenv/lib/python3.9/site-packages (0.0)\n",
      "Requirement already satisfied: scikit-learn in ./myenv/lib/python3.9/site-packages (from sklearn) (1.6.1)\n",
      "Requirement already satisfied: numpy>=1.19.5 in ./myenv/lib/python3.9/site-packages (from scikit-learn->sklearn) (1.26.4)\n",
      "Requirement already satisfied: scipy>=1.6.0 in ./myenv/lib/python3.9/site-packages (from scikit-learn->sklearn) (1.13.1)\n",
      "Requirement already satisfied: joblib>=1.2.0 in ./myenv/lib/python3.9/site-packages (from scikit-learn->sklearn) (1.4.2)\n",
      "Requirement already satisfied: threadpoolctl>=3.1.0 in ./myenv/lib/python3.9/site-packages (from scikit-learn->sklearn) (3.5.0)\n",
      "\u001b[33mWARNING: You are using pip version 21.2.4; however, version 25.0 is available.\n",
      "You should consider upgrading via the '/Users/jerry/Desktop/FYP-working/fine-tune-openai-KGQA/myenv/bin/python -m pip install --upgrade pip' command.\u001b[0m\n",
      "Note: you may need to restart the kernel to use updated packages.\n",
      "Requirement already satisfied: pandas in ./myenv/lib/python3.9/site-packages (2.2.3)\n",
      "Requirement already satisfied: tzdata>=2022.7 in ./myenv/lib/python3.9/site-packages (from pandas) (2025.1)\n",
      "Requirement already satisfied: pytz>=2020.1 in ./myenv/lib/python3.9/site-packages (from pandas) (2024.2)\n",
      "Requirement already satisfied: python-dateutil>=2.8.2 in ./myenv/lib/python3.9/site-packages (from pandas) (2.9.0.post0)\n",
      "Requirement already satisfied: numpy>=1.22.4 in ./myenv/lib/python3.9/site-packages (from pandas) (1.26.4)\n",
      "Requirement already satisfied: six>=1.5 in ./myenv/lib/python3.9/site-packages (from python-dateutil>=2.8.2->pandas) (1.17.0)\n",
      "\u001b[33mWARNING: You are using pip version 21.2.4; however, version 25.0 is available.\n",
      "You should consider upgrading via the '/Users/jerry/Desktop/FYP-working/fine-tune-openai-KGQA/myenv/bin/python -m pip install --upgrade pip' command.\u001b[0m\n",
      "Note: you may need to restart the kernel to use updated packages.\n",
      "Requirement already satisfied: nltk in ./myenv/lib/python3.9/site-packages (3.9.1)\n",
      "Requirement already satisfied: joblib in ./myenv/lib/python3.9/site-packages (from nltk) (1.4.2)\n",
      "Requirement already satisfied: click in ./myenv/lib/python3.9/site-packages (from nltk) (8.1.8)\n",
      "Requirement already satisfied: regex>=2021.8.3 in ./myenv/lib/python3.9/site-packages (from nltk) (2024.11.6)\n",
      "Requirement already satisfied: tqdm in ./myenv/lib/python3.9/site-packages (from nltk) (4.67.1)\n",
      "\u001b[33mWARNING: You are using pip version 21.2.4; however, version 25.0 is available.\n",
      "You should consider upgrading via the '/Users/jerry/Desktop/FYP-working/fine-tune-openai-KGQA/myenv/bin/python -m pip install --upgrade pip' command.\u001b[0m\n",
      "Note: you may need to restart the kernel to use updated packages.\n"
     ]
    }
   ],
   "source": [
    "%pip install langchain-community langchain-core\n",
    "%pip install sklearn\n",
    "%pip install pandas\n",
    "%pip install nltk\n"
   ]
  },
  {
   "cell_type": "code",
   "execution_count": 2,
   "metadata": {},
   "outputs": [],
   "source": [
    "import os\n",
    "import json\n",
    "import rdflib\n",
    "import random\n",
    "from typing import List\n",
    "from langchain_community.graphs import OntotextGraphDBGraph\n",
    "from constants import (\n",
    "    TRAINED_MODEL_ID_PATH,\n",
    "    TEST_DATA_PATH,\n",
    "    SPARQL_FIX_PROMPT,\n",
    "    QA_PROMPT,\n",
    "    SPARQL_GENERATION_PROMPT,\n",
    ")\n",
    "from sklearn.metrics import precision_score, recall_score, f1_score, accuracy_score\n",
    "from nltk.translate.bleu_score import sentence_bleu\n",
    "import pandas as pd\n",
    "from tqdm import tqdm"
   ]
  },
  {
   "cell_type": "code",
   "execution_count": 3,
   "metadata": {},
   "outputs": [],
   "source": [
    "class CustomOntotextGraphDBGraph(OntotextGraphDBGraph):\n",
    "    def query(\n",
    "        self,\n",
    "        query: str,\n",
    "    ) -> List[rdflib.query.ResultRow]:\n",
    "        \"\"\"\n",
    "        Query the graph.\n",
    "        \"\"\"\n",
    "        from rdflib.query import ResultRow\n",
    "\n",
    "        res = self.graph.query(query)\n",
    "        if res.type == \"ASK\":\n",
    "            return [r for r in res if isinstance(r, bool)]\n",
    "        return [r for r in res if isinstance(r, ResultRow)]"
   ]
  },
  {
   "cell_type": "code",
   "execution_count": 4,
   "metadata": {},
   "outputs": [
    {
     "name": "stdout",
     "output_type": "stream",
     "text": [
      "Graph object created successfully.\n"
     ]
    }
   ],
   "source": [
    "config = {\n",
    "    \"query_endpoint\": \"http://localhost:7200/repositories/imkg\",\n",
    "    \"local_file\": \"/Users/jerry/Desktop/FYP-working/fine-tune-openai-KGQA/KG/iMKG.ttl\",\n",
    "    \"local_file_format\": \"turtle\",\n",
    "}\n",
    "try:\n",
    "    graph = CustomOntotextGraphDBGraph(**config)\n",
    "    print(\"Graph object created successfully.\")\n",
    "except Exception as e:\n",
    "    print(\"Failed to create graph object:\", e)"
   ]
  },
  {
   "cell_type": "code",
   "execution_count": 5,
   "metadata": {},
   "outputs": [],
   "source": [
    "# Define the path to the test data\n",
    "TEST_DATA_PATH = os.path.join(os.getcwd(), \"data\", \"qa_test.json\")\n",
    "TEST_DATA_RESULTS_PATH = os.path.join(os.getcwd(), \"data\", \"qa_test_results.json\")\n",
    "\n",
    "# Load the dataset\n",
    "with open(TEST_DATA_PATH, \"r\", encoding=\"utf-8\") as f:\n",
    "    test_dataset = json.load(f)\n",
    "\n",
    "# Select 10 random test data points\n",
    "test_data_points = random.sample(test_dataset, 10)"
   ]
  },
  {
   "cell_type": "code",
   "execution_count": 12,
   "metadata": {},
   "outputs": [
    {
     "name": "stdout",
     "output_type": "stream",
     "text": [
      "Question: 1 / 10\n",
      "{'qid': 'mcqa-928ec523-e67e-11ee-94a4-58961d663d9c', 'question': 'which films have the same director as [Sunshine State] and are of the genre [drama]?', 'question_type': 'movie_to_director_to_movie_constraint_genre', 'topic_entity': ['Sunshine State', 'drama'], 'topic_entity_id': ['https://www.wikidata.org/entity/Q1670513', 'https://www.wikidata.org/entity/Q130232', 'https://www.wikidata.org/entity/Q21010853', 'https://www.wikidata.org/entity/Q25372', 'https://www.wikidata.org/entity/MT95'], 'answer': ['Casa de los Babys', 'Honeydripper', 'Go for Sisters', 'Lianna', 'Return of the Secaucus 7', 'City of Hope', 'Eight Men Out', 'Men with Guns', 'Matewan', 'Passion Fish', 'Amigo', 'Limbo', 'Silver City', 'Lone Star'], 'answer_id': ['https://www.wikidata.org/entity/Q1046576', 'https://www.wikidata.org/entity/Q1626868', 'https://www.wikidata.org/entity/Q16948216', 'https://www.wikidata.org/entity/Q1961839', 'https://www.wikidata.org/entity/Q2195648', 'https://www.wikidata.org/entity/Q2974593', 'https://www.wikidata.org/entity/Q340814', 'https://www.wikidata.org/entity/Q3616804', 'https://www.wikidata.org/entity/Q3851789', 'https://www.wikidata.org/entity/Q431772', 'https://www.wikidata.org/entity/Q4746229', 'https://www.wikidata.org/entity/Q739509', 'https://www.wikidata.org/entity/Q742593', 'https://www.wikidata.org/entity/Q930332'], 'sparql': 'PREFIX rdfs: <http://www.w3.org/2000/01/rdf-schema#> SELECT DISTINCT ?label ?uri WHERE { ?rel1 rdfs:label \"directed_by\" . ?e1 ?rel1 ?e2 ; rdfs:label \"Sunshine State\" . ?uri ?rel1 ?e2 ; ?rel4 ?e4 ; rdfs:label ?label . FILTER (?label != \"Sunshine State\") ?rel4 rdfs:label \"has_genre\" . ?e4 rdfs:label \"drama\" . }', 'generated_query': 'PREFIX rdfs: <http://www.w3.org/2000/01/rdf-schema#> SELECT DISTINCT ?label ?uri WHERE { ?rel1 rdfs:label \"directed_by\" . ?e1 ?rel1 ?e2 ; rdfs:label \"Sunshine State\" . ?uri ?rel1 ?e2 ; ?rel4 ?e4 ; rdfs:label ?label . FILTER (?label != \"Sunshine State\") ?rel4 rdfs:label \"has_genre\" . ?e4 rdfs:label \"drama\" . }', 'is_generated_query_correct': True}\n",
      "Question: 2 / 10\n",
      "{'qid': 'mcqa-92774214-e67e-11ee-9d95-58961d663d9c', 'question': \"I'm curious, which films helmed by [Sajid Khan] didn't include [Rishi Kapoor]?\", 'question_type': 'director_movie_not_actor', 'topic_entity': ['Sajid Khan', 'Rishi Kapoor'], 'topic_entity_id': ['https://www.wikidata.org/entity/Q3469329', 'https://www.wikidata.org/entity/Q258820'], 'answer': ['Champion Chaalbaaz No.1', 'Humshakals', 'Housefull', 'Himmatwala', 'Darna Zaroori Hai', 'Heyy Babyy'], 'answer_id': ['https://www.wikidata.org/entity/Q5069983', 'https://www.wikidata.org/entity/Q16249059', 'https://www.wikidata.org/entity/Q2486237', 'https://www.wikidata.org/entity/Q5765406', 'https://www.wikidata.org/entity/Q675335', 'https://www.wikidata.org/entity/Q938401'], 'sparql': 'PREFIX wd: <https://www.wikidata.org/entity/> PREFIX rdfs: <http://www.w3.org/2000/01/rdf-schema#> SELECT ?movie ?movie_label WHERE {?movie wd:P57 ?e1; rdfs:label ?movie_label. ?e1 rdfs:label \"Sajid Khan\" . MINUS { ?movie wd:P161 ?e2. ?e2 rdfs:label \"Rishi Kapoor\" . } }', 'generated_query': 'PREFIX wd: <https://www.wikidata.org/entity/> PREFIX rdfs: <http://www.w3.org/2000/01/rdf-schema#> SELECT ?movie ?movie_label WHERE {?movie wd:P57 ?e1; rdfs:label ?movie_label. ?e1 rdfs:label \"Sajid Khan\" . MINUS { ?movie wd:P161 ?e2. ?e2 rdfs:label \"Rishi Kapoor\" . } }', 'is_generated_query_correct': True}\n",
      "Question: 3 / 10\n",
      "{'qid': 'mcqa-927990ea-e67e-11ee-911b-58961d663d9c', 'question': 'On which movies was [José María Elorrieta] and [León Klimovsky] co-directors?', 'question_type': 'director_to_movie_constraint_director', 'topic_entity': ['José María Elorrieta', 'León Klimovsky'], 'topic_entity_id': ['https://www.wikidata.org/entity/Q1709446', 'https://www.wikidata.org/entity/Q1393733'], 'answer': ['Two Thousand Dollars for Coyote'], 'answer_id': ['https://www.wikidata.org/entity/Q1250915'], 'sparql': 'PREFIX rdfs: <http://www.w3.org/2000/01/rdf-schema#> SELECT DISTINCT ?uri ?l  WHERE {     ?uri ?rel1 ?e1;     ?rel2 ?e2;     rdfs:label ?l.     ?rel1 rdfs:label \"directed_by\".     ?e1 rdfs:label \"José María Elorrieta\".     ?rel2 rdfs:label \"directed_by\".     ?e2 rdfs:label \"León Klimovsky\". }', 'generated_query': 'PREFIX rdfs: <http://www.w3.org/2000/01/rdf-schema#> SELECT DISTINCT ?label ?uri WHERE { ?uri ?rel1 ?e1 ; ?rel2 ?e2 ; rdfs:label ?label . ?rel1 rdfs:label \"directed_by\" . ?e1 rdfs:label \"José María Elorrieta\" . ?rel2 rdfs:label \"directed_by\" . ?e2 rdfs:label \"León Klimovsky\" . }', 'is_generated_query_correct': False}\n",
      "Question: 4 / 10\n",
      "{'qid': 'mcqa-92826a96-e67e-11ee-a2d8-58961d663d9c', 'question': 'what are the films that have the same screenwriter as [Old School] and [Zach Galifianakis] acted in them?', 'question_type': 'movie_to_writer_to_movie_constraint_actor', 'topic_entity': ['Old School', 'Zach Galifianakis'], 'topic_entity_id': ['https://www.wikidata.org/entity/Q16613412', 'https://www.wikidata.org/entity/Q3350209', 'https://www.wikidata.org/entity/Q782955', 'https://www.wikidata.org/entity/Q139325'], 'answer': ['The Hangover Part III', 'The Hangover Part II', 'Due Date'], 'answer_id': ['https://www.wikidata.org/entity/Q2708940', 'https://www.wikidata.org/entity/Q274748', 'https://www.wikidata.org/entity/Q569941'], 'sparql': 'PREFIX rdfs: <http://www.w3.org/2000/01/rdf-schema#> SELECT DISTINCT ?label ?uri WHERE { ?rel1 rdfs:label \"written_by\" . ?e1 ?rel1 ?e2 ; rdfs:label \"Old School\" . ?uri ?rel1 ?e2 ; ?rel4 ?e4 ; rdfs:label ?label . FILTER (?label != \"Old School\") ?rel4 rdfs:label \"starred_actors\" . ?e4 rdfs:label \"Zach Galifianakis\" . }', 'generated_query': 'PREFIX rdfs: <http://www.w3.org/2000/01/rdf-schema#> SELECT DISTINCT ?label ?uri WHERE { ?rel1 rdfs:label \"written_by\" . ?e1 ?rel1 ?e2 ; rdfs:label \"Old School\" . ?uri ?rel1 ?e2 ; ?rel4 ?e4 ; rdfs:label ?label . FILTER (?label != \"Old School\") ?rel4 rdfs:label \"starred_actors\" . ?e4 rdfs:label \"Zach Galifianakis\" . }', 'is_generated_query_correct': True}\n",
      "Question: 5 / 10\n",
      "{'qid': 'mcqa-928e7766-e67e-11ee-ac68-58961d663d9c', 'question': 'Which films were [Hjalti Hjalmarsson] and [Colin Levy] the directors of?', 'question_type': 'director_to_movie_constraint_director', 'topic_entity': ['Colin Levy', 'Hjalti Hjalmarsson'], 'topic_entity_id': ['https://www.wikidata.org/entity/Q35252985', 'https://www.wikidata.org/entity/Q35252195'], 'answer': ['Agent 327: Operation Barbershop'], 'answer_id': ['https://www.wikidata.org/entity/Q35250860'], 'sparql': 'PREFIX rdfs: <http://www.w3.org/2000/01/rdf-schema#> SELECT DISTINCT ?uri ?l  WHERE {     ?uri ?rel1 ?e1;     ?rel2 ?e2;     rdfs:label ?l.     ?rel1 rdfs:label \"directed_by\".     ?e1 rdfs:label \"Colin Levy\".     ?rel2 rdfs:label \"directed_by\".     ?e2 rdfs:label \"Hjalti Hjalmarsson\". }', 'generated_query': 'PREFIX rdfs: <http://www.w3.org/2000/01/rdf-schema#> SELECT DISTINCT ?uri ?l  WHERE {     ?uri ?rel1 ?e1;     ?rel2 ?e2;     rdfs:label ?l.     ?rel1 rdfs:label \"directed_by\".     ?e1 rdfs:label \"Hjalti Hjalmarsson\".     ?rel2 rdfs:label \"directed_by\".     ?e2 rdfs:label \"Colin Levy\". }', 'is_generated_query_correct': True}\n",
      "Question: 6 / 10\n",
      "{'qid': 'mcqa-92771ab7-e67e-11ee-8170-58961d663d9c', 'question': \"What's the total number of movies directed by [Lucius J. Henderson]?\", 'question_type': 'director_num_movies', 'topic_entity': ['Lucius J. Henderson'], 'topic_entity_id': ['https://www.wikidata.org/entity/Q2058749'], 'answer': ['33'], 'answer_id': [], 'sparql': 'PREFIX wd: <https://www.wikidata.org/entity/> PREFIX rdfs: <http://www.w3.org/2000/01/rdf-schema#> SELECT (COUNT(?movie) AS ?count) WHERE { ?movie wd:P57 ?director. ?director rdfs:label \"Lucius J. Henderson\" . }', 'generated_query': 'PREFIX wd: <https://www.wikidata.org/entity/> PREFIX rdfs: <http://www.w3.org/2000/01/rdf-schema#> SELECT (COUNT(?movie) AS ?count) WHERE { ?movie wd:P57 ?director. ?director rdfs:label \"Lucius J. Henderson\" . }', 'is_generated_query_correct': True}\n",
      "Question: 7 / 10\n",
      "{'qid': 'mcqa-92846509-e67e-11ee-922a-58961d663d9c', 'question': 'Which writer wrote the screenplay for [Peter Pan] and [Harry Potter and the Order of the Phoenix]?', 'question_type': 'movie_to_writer_constraint_movie', 'topic_entity': ['Peter Pan', 'Harry Potter and the Order of the Phoenix'], 'topic_entity_id': ['https://www.wikidata.org/entity/Q1364029', 'https://www.wikidata.org/entity/Q15300358', 'https://www.wikidata.org/entity/Q1537132', 'https://www.wikidata.org/entity/Q270470', 'https://www.wikidata.org/entity/Q4363843', 'https://www.wikidata.org/entity/Q7176281', 'https://www.wikidata.org/entity/Q7176283', 'https://www.wikidata.org/entity/Q102235'], 'answer': ['Michael Goldenberg'], 'answer_id': ['https://www.wikidata.org/entity/Q643461'], 'sparql': 'PREFIX rdfs: <http://www.w3.org/2000/01/rdf-schema#> SELECT DISTINCT ?label ?uri WHERE { ?e1 ?rel ?uri; rdfs:label \"Peter Pan\" . ?e3 ?rel ?uri; rdfs:label \"Harry Potter and the Order of the Phoenix\" . ?rel rdfs:label \"written_by\" . ?uri rdfs:label ?label . }', 'generated_query': 'PREFIX rdfs: <http://www.w3.org/2000/01/rdf-schema#> SELECT DISTINCT ?label ?uri WHERE { ?e1 ?rel ?uri; rdfs:label \"Peter Pan\" . ?e3 ?rel ?uri; rdfs:label \"Harry Potter and the Order of the Phoenix\" . ?rel rdfs:label \"written_by\" . ?uri rdfs:label ?label . }', 'is_generated_query_correct': True}\n",
      "Question: 8 / 10\n",
      "{'qid': 'mcqa-927e961e-e67e-11ee-8d4b-58961d663d9c', 'question': 'Find out the movies that are in [Swiss German] and belong to the [film based on a novel] genre.', 'question_type': 'language_genre_movie', 'topic_entity': ['Swiss German', 'film based on a novel'], 'topic_entity_id': ['https://www.wikidata.org/entity/Q387066', 'https://www.wikidata.org/entity/Q52207399'], 'answer': ['Heidi'], 'answer_id': ['https://www.wikidata.org/entity/Q21646479'], 'sparql': 'PREFIX wd: <https://www.wikidata.org/entity/> PREFIX rdfs: <http://www.w3.org/2000/01/rdf-schema#> SELECT ?movie ?movie_label WHERE {?movie wd:P364 ?e1 ; wd:P136 ?e2 ; rdfs:label ?movie_label. ?e1 rdfs:label \"Swiss German\". ?e2 rdfs:label \"film based on a novel\". }', 'generated_query': 'PREFIX wd: <https://www.wikidata.org/entity/> PREFIX rdfs: <http://www.w3.org/2000/01/rdf-schema#> SELECT ?movie ?movie_label WHERE {?movie wd:P364 ?e1 ; wd:P136 ?e2 ; rdfs:label ?movie_label. ?e1 rdfs:label \"Swiss German\". ?e2 rdfs:label \"film based on a novel\". }', 'is_generated_query_correct': True}\n",
      "Question: 9 / 10\n",
      "{'qid': 'mcqa-92787ece-e67e-11ee-b1a7-58961d663d9c', 'question': 'what are the films that have the same screenwriter as [Scandal Sheet] and [Cliff Robertson] played a role in the films?', 'question_type': 'movie_to_writer_to_movie_constraint_actor', 'topic_entity': ['Scandal Sheet', 'Cliff Robertson'], 'topic_entity_id': ['https://www.wikidata.org/entity/Q10368731', 'https://www.wikidata.org/entity/Q4003201', 'https://www.wikidata.org/entity/Q7429899', 'https://www.wikidata.org/entity/Q94243341', 'https://www.wikidata.org/entity/Q181899'], 'answer': ['Underworld U.S.A.'], 'answer_id': ['https://www.wikidata.org/entity/Q3230961'], 'sparql': 'PREFIX rdfs: <http://www.w3.org/2000/01/rdf-schema#> SELECT DISTINCT ?label ?uri WHERE { ?rel1 rdfs:label \"written_by\" . ?e1 ?rel1 ?e2 ; rdfs:label \"Scandal Sheet\" . ?uri ?rel1 ?e2 ; ?rel4 ?e4 ; rdfs:label ?label . FILTER (?label != \"Scandal Sheet\") ?rel4 rdfs:label \"starred_actors\" . ?e4 rdfs:label \"Cliff Robertson\" . }', 'generated_query': 'PREFIX rdfs: <http://www.w3.org/2000/01/rdf-schema#> SELECT DISTINCT ?label ?uri WHERE { ?rel1 rdfs:label \"written_by\" . ?e1 ?rel1 ?e2 ; rdfs:label \"Cliff Robertson\" . ?uri ?rel1 ?e2 ; ?rel4 ?e4 ; rdfs:label ?label . FILTER (?label != \"Cliff Robertson\") ?rel4 rdfs:label \"starred_actors\" . ?e4 rdfs:label \"Scandal Sheet\" . }', 'is_generated_query_correct': False}\n",
      "Question: 10 / 10\n",
      "{'qid': 'mcqa-9285009b-e67e-11ee-97e5-58961d663d9c', 'question': 'Can you provide a list of movies released in [2001] with [buddy film] as a genre?', 'question_type': 'year_genre_movie', 'topic_entity': ['2001', 'buddy film'], 'topic_entity_id': ['https://www.wikidata.org/entity/Q663106'], 'answer': ['Cats & Dogs', 'The 51st State', 'Monsters, Inc.', 'Jodi', 'Saving Silverman', \"The Emperor's New Groove\", 'Friends', 'Dil Chahta Hai', 'Gypsy 83', 'Shrek', 'By Hook or by Crook', 'Dhosth', 'Bandits', 'Piriyadha Varam Vendum', 'Snehamante Idera', 'Jay and Silent Bob Strike Back', \"Dude, Where's My Car?\", 'Osmosis Jones'], 'answer_id': ['https://www.wikidata.org/entity/Q1051315', 'https://www.wikidata.org/entity/Q1852729', 'https://www.wikidata.org/entity/Q187726', 'https://www.wikidata.org/entity/Q19572303', 'https://www.wikidata.org/entity/Q198451', 'https://www.wikidata.org/entity/Q223163', 'https://www.wikidata.org/entity/Q3429658', 'https://www.wikidata.org/entity/Q370313', 'https://www.wikidata.org/entity/Q4160338', 'https://www.wikidata.org/entity/Q483815', 'https://www.wikidata.org/entity/Q5003794', 'https://www.wikidata.org/entity/Q5269792', 'https://www.wikidata.org/entity/Q587847', 'https://www.wikidata.org/entity/Q7198018', 'https://www.wikidata.org/entity/Q7547573', 'https://www.wikidata.org/entity/Q832190', 'https://www.wikidata.org/entity/Q933798', 'https://www.wikidata.org/entity/Q966690'], 'sparql': 'PREFIX wd: <https://www.wikidata.org/entity/> PREFIX rdfs: <http://www.w3.org/2000/01/rdf-schema#> SELECT ?movie ?movie_label WHERE {?movie wd:publication_year \"2001\"; wd:P136 ?e; rdfs:label ?movie_label. ?e rdfs:label \"buddy film\". }', 'generated_query': 'PREFIX wd: <https://www.wikidata.org/entity/> PREFIX rdfs: <http://www.w3.org/2000/01/rdf-schema#> SELECT ?movie ?movie_label WHERE {?movie wd:publication_year \"2001\"; wd:P136 ?e; rdfs:label ?movie_label. ?e rdfs:label \"buddy film\". }', 'is_generated_query_correct': True}\n"
     ]
    }
   ],
   "source": [
    "import requests\n",
    "\n",
    "\n",
    "def get_generated_queries(questions: list):\n",
    "    response = requests.post(\n",
    "        \"http://localhost:8001/query\",\n",
    "        json={\"questions\": questions},  # Send batch request\n",
    "    )\n",
    "    response_json = response.json()\n",
    "    return {\n",
    "        item[\"question\"]: item[\"response\"] for item in response_json\n",
    "    }  # Convert to a dictionary\n",
    "\n",
    "\n",
    "def compare_two_query(correct_query: str, generated_query: str):\n",
    "    generated_results = set(graph.query(generated_query))\n",
    "    sample_results = set(graph.query(correct_query))\n",
    "    return generated_results == sample_results\n",
    "\n",
    "\n",
    "batch_size = 1\n",
    "for i in range(0, len(test_data_points), batch_size):\n",
    "    batch = test_data_points[i : i + batch_size]\n",
    "\n",
    "    # Extract questions for the batch\n",
    "    questions = [data_point[\"question\"] for data_point in batch]\n",
    "\n",
    "    # Get batch query responses as a dictionary\n",
    "    generated_query_map = get_generated_queries(questions)\n",
    "\n",
    "    # Process results for the batch\n",
    "    for index, data_point in enumerate(batch, start=i + 1):\n",
    "        question = data_point[\"question\"]\n",
    "        generated_query = generated_query_map.get(question)\n",
    "\n",
    "        if not generated_query:\n",
    "            print(f\"Generated query is invalid for question: {question}\")\n",
    "            continue\n",
    "\n",
    "        data_point[\"generated_query\"] = generated_query\n",
    "        data_point[\"is_generated_query_correct\"] = compare_two_query(\n",
    "            correct_query=data_point[\"sparql\"], generated_query=generated_query\n",
    "        )\n",
    "        print(f\"Question: {index} / {len(test_data_points)}\\n{data_point}\")"
   ]
  },
  {
   "cell_type": "code",
   "execution_count": 14,
   "metadata": {},
   "outputs": [],
   "source": [
    "with open(TEST_DATA_RESULTS_PATH, \"w\", encoding=\"utf-8\") as f:\n",
    "    json.dump(test_data_points, f)"
   ]
  }
 ],
 "metadata": {
  "kernelspec": {
   "display_name": "myenv",
   "language": "python",
   "name": "python3"
  },
  "language_info": {
   "codemirror_mode": {
    "name": "ipython",
    "version": 3
   },
   "file_extension": ".py",
   "mimetype": "text/x-python",
   "name": "python",
   "nbconvert_exporter": "python",
   "pygments_lexer": "ipython3",
   "version": "3.9.6"
  }
 },
 "nbformat": 4,
 "nbformat_minor": 2
}
