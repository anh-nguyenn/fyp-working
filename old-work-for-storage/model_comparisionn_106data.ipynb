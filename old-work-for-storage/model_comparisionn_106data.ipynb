{
 "cells": [
  {
   "cell_type": "code",
   "execution_count": 1,
   "metadata": {},
   "outputs": [
    {
     "name": "stdout",
     "output_type": "stream",
     "text": [
      "Requirement already satisfied: langchain-community in ./myenv/lib/python3.9/site-packages (0.3.15)\n",
      "Requirement already satisfied: langchain-core in ./myenv/lib/python3.9/site-packages (0.3.31)\n",
      "Requirement already satisfied: dataclasses-json<0.7,>=0.5.7 in ./myenv/lib/python3.9/site-packages (from langchain-community) (0.6.7)\n",
      "Requirement already satisfied: tenacity!=8.4.0,<10,>=8.1.0 in ./myenv/lib/python3.9/site-packages (from langchain-community) (9.0.0)\n",
      "Requirement already satisfied: langsmith<0.4,>=0.1.125 in ./myenv/lib/python3.9/site-packages (from langchain-community) (0.3.1)\n",
      "Requirement already satisfied: SQLAlchemy<3,>=1.4 in ./myenv/lib/python3.9/site-packages (from langchain-community) (2.0.37)\n",
      "Requirement already satisfied: requests<3,>=2 in ./myenv/lib/python3.9/site-packages (from langchain-community) (2.32.3)\n",
      "Requirement already satisfied: numpy<2,>=1.22.4 in ./myenv/lib/python3.9/site-packages (from langchain-community) (1.26.4)\n",
      "Requirement already satisfied: PyYAML>=5.3 in ./myenv/lib/python3.9/site-packages (from langchain-community) (6.0.2)\n",
      "Requirement already satisfied: pydantic-settings<3.0.0,>=2.4.0 in ./myenv/lib/python3.9/site-packages (from langchain-community) (2.7.1)\n",
      "Requirement already satisfied: langchain<0.4.0,>=0.3.15 in ./myenv/lib/python3.9/site-packages (from langchain-community) (0.3.15)\n",
      "Requirement already satisfied: httpx-sse<0.5.0,>=0.4.0 in ./myenv/lib/python3.9/site-packages (from langchain-community) (0.4.0)\n",
      "Requirement already satisfied: aiohttp<4.0.0,>=3.8.3 in ./myenv/lib/python3.9/site-packages (from langchain-community) (3.11.11)\n",
      "Requirement already satisfied: pydantic<3.0.0,>=2.5.2 in ./myenv/lib/python3.9/site-packages (from langchain-core) (2.10.6)\n",
      "Requirement already satisfied: packaging<25,>=23.2 in ./myenv/lib/python3.9/site-packages (from langchain-core) (24.2)\n",
      "Requirement already satisfied: jsonpatch<2.0,>=1.33 in ./myenv/lib/python3.9/site-packages (from langchain-core) (1.33)\n",
      "Requirement already satisfied: typing-extensions>=4.7 in ./myenv/lib/python3.9/site-packages (from langchain-core) (4.12.2)\n",
      "Requirement already satisfied: async-timeout<6.0,>=4.0 in ./myenv/lib/python3.9/site-packages (from aiohttp<4.0.0,>=3.8.3->langchain-community) (4.0.3)\n",
      "Requirement already satisfied: yarl<2.0,>=1.17.0 in ./myenv/lib/python3.9/site-packages (from aiohttp<4.0.0,>=3.8.3->langchain-community) (1.18.3)\n",
      "Requirement already satisfied: frozenlist>=1.1.1 in ./myenv/lib/python3.9/site-packages (from aiohttp<4.0.0,>=3.8.3->langchain-community) (1.5.0)\n",
      "Requirement already satisfied: attrs>=17.3.0 in ./myenv/lib/python3.9/site-packages (from aiohttp<4.0.0,>=3.8.3->langchain-community) (25.1.0)\n",
      "Requirement already satisfied: aiosignal>=1.1.2 in ./myenv/lib/python3.9/site-packages (from aiohttp<4.0.0,>=3.8.3->langchain-community) (1.3.2)\n",
      "Requirement already satisfied: propcache>=0.2.0 in ./myenv/lib/python3.9/site-packages (from aiohttp<4.0.0,>=3.8.3->langchain-community) (0.2.1)\n",
      "Requirement already satisfied: aiohappyeyeballs>=2.3.0 in ./myenv/lib/python3.9/site-packages (from aiohttp<4.0.0,>=3.8.3->langchain-community) (2.4.4)\n",
      "Requirement already satisfied: multidict<7.0,>=4.5 in ./myenv/lib/python3.9/site-packages (from aiohttp<4.0.0,>=3.8.3->langchain-community) (6.1.0)\n",
      "Requirement already satisfied: marshmallow<4.0.0,>=3.18.0 in ./myenv/lib/python3.9/site-packages (from dataclasses-json<0.7,>=0.5.7->langchain-community) (3.26.0)\n",
      "Requirement already satisfied: typing-inspect<1,>=0.4.0 in ./myenv/lib/python3.9/site-packages (from dataclasses-json<0.7,>=0.5.7->langchain-community) (0.9.0)\n",
      "Requirement already satisfied: jsonpointer>=1.9 in ./myenv/lib/python3.9/site-packages (from jsonpatch<2.0,>=1.33->langchain-core) (3.0.0)\n",
      "Requirement already satisfied: langchain-text-splitters<0.4.0,>=0.3.3 in ./myenv/lib/python3.9/site-packages (from langchain<0.4.0,>=0.3.15->langchain-community) (0.3.5)\n",
      "Requirement already satisfied: requests-toolbelt<2.0.0,>=1.0.0 in ./myenv/lib/python3.9/site-packages (from langsmith<0.4,>=0.1.125->langchain-community) (1.0.0)\n",
      "Requirement already satisfied: httpx<1,>=0.23.0 in ./myenv/lib/python3.9/site-packages (from langsmith<0.4,>=0.1.125->langchain-community) (0.28.1)\n",
      "Requirement already satisfied: zstandard<0.24.0,>=0.23.0 in ./myenv/lib/python3.9/site-packages (from langsmith<0.4,>=0.1.125->langchain-community) (0.23.0)\n",
      "Requirement already satisfied: orjson<4.0.0,>=3.9.14 in ./myenv/lib/python3.9/site-packages (from langsmith<0.4,>=0.1.125->langchain-community) (3.10.15)\n",
      "Requirement already satisfied: idna in ./myenv/lib/python3.9/site-packages (from httpx<1,>=0.23.0->langsmith<0.4,>=0.1.125->langchain-community) (3.10)\n",
      "Requirement already satisfied: certifi in ./myenv/lib/python3.9/site-packages (from httpx<1,>=0.23.0->langsmith<0.4,>=0.1.125->langchain-community) (2024.12.14)\n",
      "Requirement already satisfied: anyio in ./myenv/lib/python3.9/site-packages (from httpx<1,>=0.23.0->langsmith<0.4,>=0.1.125->langchain-community) (4.8.0)\n",
      "Requirement already satisfied: httpcore==1.* in ./myenv/lib/python3.9/site-packages (from httpx<1,>=0.23.0->langsmith<0.4,>=0.1.125->langchain-community) (1.0.7)\n",
      "Requirement already satisfied: h11<0.15,>=0.13 in ./myenv/lib/python3.9/site-packages (from httpcore==1.*->httpx<1,>=0.23.0->langsmith<0.4,>=0.1.125->langchain-community) (0.14.0)\n",
      "Requirement already satisfied: annotated-types>=0.6.0 in ./myenv/lib/python3.9/site-packages (from pydantic<3.0.0,>=2.5.2->langchain-core) (0.7.0)\n",
      "Requirement already satisfied: pydantic-core==2.27.2 in ./myenv/lib/python3.9/site-packages (from pydantic<3.0.0,>=2.5.2->langchain-core) (2.27.2)\n",
      "Requirement already satisfied: python-dotenv>=0.21.0 in ./myenv/lib/python3.9/site-packages (from pydantic-settings<3.0.0,>=2.4.0->langchain-community) (1.0.1)\n",
      "Requirement already satisfied: charset-normalizer<4,>=2 in ./myenv/lib/python3.9/site-packages (from requests<3,>=2->langchain-community) (3.4.1)\n",
      "Requirement already satisfied: urllib3<3,>=1.21.1 in ./myenv/lib/python3.9/site-packages (from requests<3,>=2->langchain-community) (2.3.0)\n",
      "Requirement already satisfied: mypy-extensions>=0.3.0 in ./myenv/lib/python3.9/site-packages (from typing-inspect<1,>=0.4.0->dataclasses-json<0.7,>=0.5.7->langchain-community) (1.0.0)\n",
      "Requirement already satisfied: exceptiongroup>=1.0.2 in ./myenv/lib/python3.9/site-packages (from anyio->httpx<1,>=0.23.0->langsmith<0.4,>=0.1.125->langchain-community) (1.2.2)\n",
      "Requirement already satisfied: sniffio>=1.1 in ./myenv/lib/python3.9/site-packages (from anyio->httpx<1,>=0.23.0->langsmith<0.4,>=0.1.125->langchain-community) (1.3.1)\n",
      "\u001b[33mWARNING: You are using pip version 21.2.4; however, version 25.0 is available.\n",
      "You should consider upgrading via the '/Users/jerry/Desktop/FYP-working/fine-tune-openai-KGQA/myenv/bin/python -m pip install --upgrade pip' command.\u001b[0m\n",
      "Note: you may need to restart the kernel to use updated packages.\n",
      "Requirement already satisfied: sklearn in ./myenv/lib/python3.9/site-packages (0.0)\n",
      "Requirement already satisfied: scikit-learn in ./myenv/lib/python3.9/site-packages (from sklearn) (1.6.1)\n",
      "Requirement already satisfied: joblib>=1.2.0 in ./myenv/lib/python3.9/site-packages (from scikit-learn->sklearn) (1.4.2)\n",
      "Requirement already satisfied: threadpoolctl>=3.1.0 in ./myenv/lib/python3.9/site-packages (from scikit-learn->sklearn) (3.5.0)\n",
      "Requirement already satisfied: scipy>=1.6.0 in ./myenv/lib/python3.9/site-packages (from scikit-learn->sklearn) (1.13.1)\n",
      "Requirement already satisfied: numpy>=1.19.5 in ./myenv/lib/python3.9/site-packages (from scikit-learn->sklearn) (1.26.4)\n",
      "\u001b[33mWARNING: You are using pip version 21.2.4; however, version 25.0 is available.\n",
      "You should consider upgrading via the '/Users/jerry/Desktop/FYP-working/fine-tune-openai-KGQA/myenv/bin/python -m pip install --upgrade pip' command.\u001b[0m\n",
      "Note: you may need to restart the kernel to use updated packages.\n",
      "Requirement already satisfied: pandas in ./myenv/lib/python3.9/site-packages (2.2.3)\n",
      "Requirement already satisfied: numpy>=1.22.4 in ./myenv/lib/python3.9/site-packages (from pandas) (1.26.4)\n",
      "Requirement already satisfied: tzdata>=2022.7 in ./myenv/lib/python3.9/site-packages (from pandas) (2025.1)\n",
      "Requirement already satisfied: pytz>=2020.1 in ./myenv/lib/python3.9/site-packages (from pandas) (2024.2)\n",
      "Requirement already satisfied: python-dateutil>=2.8.2 in ./myenv/lib/python3.9/site-packages (from pandas) (2.9.0.post0)\n",
      "Requirement already satisfied: six>=1.5 in ./myenv/lib/python3.9/site-packages (from python-dateutil>=2.8.2->pandas) (1.17.0)\n",
      "\u001b[33mWARNING: You are using pip version 21.2.4; however, version 25.0 is available.\n",
      "You should consider upgrading via the '/Users/jerry/Desktop/FYP-working/fine-tune-openai-KGQA/myenv/bin/python -m pip install --upgrade pip' command.\u001b[0m\n",
      "Note: you may need to restart the kernel to use updated packages.\n",
      "Requirement already satisfied: nltk in ./myenv/lib/python3.9/site-packages (3.9.1)\n",
      "Requirement already satisfied: click in ./myenv/lib/python3.9/site-packages (from nltk) (8.1.8)\n",
      "Requirement already satisfied: regex>=2021.8.3 in ./myenv/lib/python3.9/site-packages (from nltk) (2024.11.6)\n",
      "Requirement already satisfied: tqdm in ./myenv/lib/python3.9/site-packages (from nltk) (4.67.1)\n",
      "Requirement already satisfied: joblib in ./myenv/lib/python3.9/site-packages (from nltk) (1.4.2)\n",
      "\u001b[33mWARNING: You are using pip version 21.2.4; however, version 25.0 is available.\n",
      "You should consider upgrading via the '/Users/jerry/Desktop/FYP-working/fine-tune-openai-KGQA/myenv/bin/python -m pip install --upgrade pip' command.\u001b[0m\n",
      "Note: you may need to restart the kernel to use updated packages.\n"
     ]
    }
   ],
   "source": [
    "%pip install langchain-community langchain-core\n",
    "%pip install sklearn\n",
    "%pip install pandas\n",
    "%pip install nltk\n"
   ]
  },
  {
   "cell_type": "code",
   "execution_count": 2,
   "metadata": {},
   "outputs": [],
   "source": [
    "import os\n",
    "import json\n",
    "import rdflib\n",
    "import random\n",
    "from typing import List\n",
    "from openai import OpenAI\n",
    "from dotenv import load_dotenv\n",
    "from langchain_community.graphs import OntotextGraphDBGraph\n",
    "from constants import (\n",
    "    TRAINED_MODEL_ID_PATH,\n",
    "    TEST_DATA_PATH,\n",
    "    SPARQL_FIX_PROMPT,\n",
    "    QA_PROMPT,\n",
    "    SPARQL_GENERATION_PROMPT,\n",
    ")\n",
    "from sklearn.metrics import precision_score, recall_score, f1_score, accuracy_score\n",
    "from nltk.translate.bleu_score import sentence_bleu\n",
    "import pandas as pd\n",
    "from tqdm import tqdm"
   ]
  },
  {
   "cell_type": "code",
   "execution_count": 3,
   "metadata": {},
   "outputs": [],
   "source": [
    "class CustomOntotextGraphDBGraph(OntotextGraphDBGraph):\n",
    "    def query(\n",
    "        self,\n",
    "        query: str,\n",
    "    ) -> List[rdflib.query.ResultRow]:\n",
    "        \"\"\"\n",
    "        Query the graph.\n",
    "        \"\"\"\n",
    "        from rdflib.query import ResultRow\n",
    "\n",
    "        res = self.graph.query(query)\n",
    "        if res.type == \"ASK\":\n",
    "            return [r for r in res if isinstance(r, bool)]\n",
    "        return [r for r in res if isinstance(r, ResultRow)]"
   ]
  },
  {
   "cell_type": "code",
   "execution_count": 4,
   "metadata": {},
   "outputs": [
    {
     "name": "stdout",
     "output_type": "stream",
     "text": [
      "Graph object created successfully.\n"
     ]
    }
   ],
   "source": [
    "config = {\n",
    "    \"query_endpoint\": \"http://localhost:7200/repositories/imkg\",\n",
    "    \"local_file\": \"/Users/jerry/Desktop/FYP-working/fine-tune-openai-KGQA/KG/iMKG.ttl\",\n",
    "    \"local_file_format\": \"turtle\",\n",
    "}\n",
    "try:\n",
    "    graph = CustomOntotextGraphDBGraph(**config)\n",
    "    print(\"Graph object created successfully.\")\n",
    "except Exception as e:\n",
    "    print(\"Failed to create graph object:\", e)"
   ]
  },
  {
   "cell_type": "code",
   "execution_count": 5,
   "metadata": {},
   "outputs": [],
   "source": [
    "GPT4O_RESULTS_PATH = os.path.join(os.getcwd(), \"data\", \"Gpt4o-qa_test_results.json\")\n",
    "QWEN_RESULTS_PATH = os.path.join(os.getcwd(), \"data\", \"Qwen2.5-3B_qa_test_results.json\")\n",
    "LLAMA3_RESULTS_PATH = os.path.join(\n",
    "    os.getcwd(), \"data\", \"Llama3.2-3B-qa_test_results.json\"\n",
    ")\n",
    "\n",
    "if os.path.exists(GPT4O_RESULTS_PATH):\n",
    "    with open(GPT4O_RESULTS_PATH, \"r\", encoding=\"utf-8\") as f:\n",
    "        gpt4o_results = json.load(f)\n",
    "else:\n",
    "    gpt4o_results = []\n",
    "\n",
    "if os.path.exists(QWEN_RESULTS_PATH):\n",
    "    with open(QWEN_RESULTS_PATH, \"r\", encoding=\"utf-8\") as f:\n",
    "        qwen_results = json.load(f)[:106]\n",
    "else:\n",
    "    qwen_results = []\n",
    "\n",
    "if os.path.exists(LLAMA3_RESULTS_PATH):\n",
    "    with open(LLAMA3_RESULTS_PATH, \"r\", encoding=\"utf-8\") as f:\n",
    "        llama3_results = json.load(f)[:106]\n",
    "else:\n",
    "    llama3_results = []"
   ]
  },
  {
   "cell_type": "markdown",
   "metadata": {},
   "source": [
    "# GPT-4o fine-tuning: 100 data points\n"
   ]
  },
  {
   "cell_type": "code",
   "execution_count": 6,
   "metadata": {},
   "outputs": [
    {
     "name": "stdout",
     "output_type": "stream",
     "text": [
      "GPT-4o Accuracy: 89.62%\n"
     ]
    }
   ],
   "source": [
    "# Calculate accuracy for GPT-4o results\n",
    "correct_count_gpt4o = 0\n",
    "for data_point in gpt4o_results:\n",
    "    sparql_response = data_point.get(\"sparql_response\")\n",
    "    sample_query = data_point.get(\"sparql\")\n",
    "\n",
    "    if sparql_response and sample_query:\n",
    "        try:\n",
    "            generated_results = set(graph.query(sparql_response))\n",
    "            sample_results = set(graph.query(sample_query))\n",
    "\n",
    "            if generated_results == sample_results:\n",
    "                correct_count_gpt4o += 1\n",
    "        except Exception:\n",
    "            continue\n",
    "\n",
    "gpt4o_accuracy = correct_count_gpt4o / len(gpt4o_results) if gpt4o_results else 0\n",
    "print(f\"GPT-4o Accuracy: {gpt4o_accuracy:.2%}\")"
   ]
  },
  {
   "cell_type": "markdown",
   "metadata": {},
   "source": [
    "# Qwen2.5-3B fine-tuning: 100 data points\n"
   ]
  },
  {
   "cell_type": "code",
   "execution_count": 10,
   "metadata": {},
   "outputs": [
    {
     "name": "stdout",
     "output_type": "stream",
     "text": [
      "Qwen2.5-3B Accuracy: 91.51%\n",
      "Processing complete! Results saved.\n"
     ]
    }
   ],
   "source": [
    "correct_count_qwen = 0\n",
    "\n",
    "for data_point in qwen_results:\n",
    "    sparql_response = data_point.get(\"generated_sparql\")\n",
    "    sample_query = data_point.get(\"sparql\")\n",
    "\n",
    "    if sparql_response and sample_query:\n",
    "        try:\n",
    "            generated_results = set(graph.query(sparql_response))\n",
    "            sample_results = set(graph.query(sample_query))\n",
    "\n",
    "            if generated_results == sample_results:\n",
    "                correct_count_qwen += 1\n",
    "        except Exception:\n",
    "            continue\n",
    "\n",
    "qwen_accuracy = correct_count_qwen / len(qwen_results) if qwen_results else 0\n",
    "print(f\"Qwen2.5-3B Accuracy: {qwen_accuracy:.2%}\")\n",
    "\n",
    "print(\"Processing complete! Results saved.\")"
   ]
  },
  {
   "cell_type": "markdown",
   "metadata": {},
   "source": [
    "# Llama3.2-3B fine-tuning\n"
   ]
  },
  {
   "cell_type": "code",
   "execution_count": 8,
   "metadata": {},
   "outputs": [
    {
     "name": "stdout",
     "output_type": "stream",
     "text": [
      "Llama3.2-3B Accuracy: 84.91%\n",
      "Processing complete! Results saved.\n"
     ]
    }
   ],
   "source": [
    "# Calculate accuracy for Llama3.2-3B results\n",
    "correct_count_llama3 = 0\n",
    "\n",
    "for data_point in llama3_results:\n",
    "    sparql_response = data_point.get(\"sparql_response\")\n",
    "    sample_query = data_point.get(\"sparql\")\n",
    "\n",
    "    if sparql_response and sample_query:\n",
    "        try:\n",
    "            generated_results = set(graph.query(sparql_response))\n",
    "            sample_results = set(graph.query(sample_query))\n",
    "\n",
    "            if generated_results == sample_results:\n",
    "                correct_count_llama3 += 1\n",
    "        except Exception:\n",
    "            continue\n",
    "\n",
    "llama3_accuracy = correct_count_llama3 / len(llama3_results) if llama3_results else 0\n",
    "print(f\"Llama3.2-3B Accuracy: {llama3_accuracy:.2%}\")\n",
    "\n",
    "print(\"Processing complete! Results saved.\")"
   ]
  }
 ],
 "metadata": {
  "kernelspec": {
   "display_name": "myenv",
   "language": "python",
   "name": "python3"
  },
  "language_info": {
   "codemirror_mode": {
    "name": "ipython",
    "version": 3
   },
   "file_extension": ".py",
   "mimetype": "text/x-python",
   "name": "python",
   "nbconvert_exporter": "python",
   "pygments_lexer": "ipython3",
   "version": "3.9.6"
  }
 },
 "nbformat": 4,
 "nbformat_minor": 2
}
